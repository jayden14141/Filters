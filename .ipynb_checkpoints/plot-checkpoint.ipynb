{
 "cells": [
  {
   "cell_type": "code",
   "execution_count": null,
   "id": "d19c7730-98a9-4055-a433-b42a6eee9064",
   "metadata": {},
   "outputs": [],
   "source": [
    "import matplotlib as mpl\n",
    "import matplotlib.pyplot as plt\n",
    "\n",
    "def histogram(data=[], title=\"\", xlabel=\"None\", ylabel=\"None\",\n",
    "                   labels=None, bins=None, width=None, alpha=None):\n",
    "    plt.title(title)\n",
    "    plt.xlabel(xlabel)\n",
    "    plt.ylabel(ylabel)\n",
    "\n",
    "    plt.hist(data, rwdith=width, bins=bins, alpha=alpha, label=labels)\n",
    "    plt.savefig(title+\".pdf\")\n",
    "    plt.show()\n",
    "\n",
    "def line_plot(x=[], y=[], title=\"\", xlabel=\"None\", ylabel=\"None\",\n",
    "                   log_xscale=True, ylim=None, labels=None):\n",
    "    plt.title(title)\n",
    "    plt.xlabel(xlabel)\n",
    "    plt.ylabel(ylabel)\n",
    "\n",
    "    if log_xscale:\n",
    "        plt.xscale('log')\n",
    "\n",
    "    if ylim:\n",
    "        bottom,top=ylim\n",
    "        plt.ylim(bottom=bottom, top=top)\n",
    "\n",
    "    if isinstance(y[0],list):\n",
    "        for i in range(len(y)):\n",
    "            plt.plot(x,y[i],label=labels[i])\n",
    "        plt.legend()\n",
    "    else:\n",
    "        plt.plot(x,y)\n",
    "    plt.savefig(title+\".pdf\")\n",
    "    plt.show()\n",
    "\n",
    "def scatter_plot(x=[], y=[], z=[] title=\"\", xlabel=\"None\", ylabel=\"None\", zlabel=\"None\",\n",
    "                   log_xscale=True, log_yscale=False, ylim=None, labels=None):\n",
    "    plt.title(title)\n",
    "    plt.xlabel(xlabel)\n",
    "    plt.ylabel(ylabel)\n",
    "\n",
    "    if log_xscale:\n",
    "        plt.xscale('log')\n",
    "\n",
    "    if log_yscale:\n",
    "        plt.yscale('log')\n",
    "\n",
    "    if ylim:\n",
    "        bottom,top=ylim\n",
    "        plt.ylim(bottom=bottom, top=top)\n",
    "\n",
    "    sc=[plt.scatter(x,y,c=z,cmap=cm, s=150)]\n",
    "\n",
    "    plt.savefig(title+\".pdf\")\n",
    "    plt.show()"
   ]
  }
 ],
 "metadata": {
  "kernelspec": {
   "display_name": "Python 3 (ipykernel)",
   "language": "python",
   "name": "python3"
  },
  "language_info": {
   "codemirror_mode": {
    "name": "ipython",
    "version": 3
   },
   "file_extension": ".py",
   "mimetype": "text/x-python",
   "name": "python",
   "nbconvert_exporter": "python",
   "pygments_lexer": "ipython3",
   "version": "3.10.9"
  }
 },
 "nbformat": 4,
 "nbformat_minor": 5
}
